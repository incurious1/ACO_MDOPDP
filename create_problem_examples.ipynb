{
 "cells": [
  {
   "cell_type": "code",
   "execution_count": 2,
   "id": "06a5b567-d1dd-4a27-a063-386f171e7748",
   "metadata": {},
   "outputs": [],
   "source": [
    "import pickle\n",
    "import os\n",
    "import numpy as np"
   ]
  },
  {
   "cell_type": "code",
   "execution_count": 3,
   "id": "f939223f-892c-4feb-a772-1fa1faa9b2cb",
   "metadata": {},
   "outputs": [],
   "source": [
    "import problem_generator"
   ]
  },
  {
   "cell_type": "code",
   "execution_count": 3,
   "id": "da52518c-475d-4fb3-af49-45ead70ad8cf",
   "metadata": {},
   "outputs": [],
   "source": [
    "n_customers = [20,30,40,50,80,100]\n",
    "n_vehicles = [2,3,4,5,8,10]\n",
    "capacity = 200\n",
    "\n",
    "n_examples = 300"
   ]
  },
  {
   "cell_type": "code",
   "execution_count": 5,
   "id": "d276046b-bbb5-4298-a7b0-31d5c59dc506",
   "metadata": {},
   "outputs": [
    {
     "name": "stdout",
     "output_type": "stream",
     "text": [
      "Saved problem_examples/mdopdp_n20_v2_299.pkl\n",
      "Saved problem_examples/mdopdp_n20_v3_299.pkl\n",
      "Saved problem_examples/mdopdp_n20_v4_299.pkl\n",
      "Saved problem_examples/mdopdp_n20_v5_299.pkl\n",
      "Saved problem_examples/mdopdp_n20_v8_299.pkl\n",
      "Saved problem_examples/mdopdp_n20_v10_299.pkl\n",
      "Saved problem_examples/mdopdp_n30_v2_299.pkl\n",
      "Saved problem_examples/mdopdp_n30_v3_299.pkl\n",
      "Saved problem_examples/mdopdp_n30_v4_299.pkl\n",
      "Saved problem_examples/mdopdp_n30_v5_299.pkl\n",
      "Saved problem_examples/mdopdp_n30_v8_299.pkl\n",
      "Saved problem_examples/mdopdp_n30_v10_299.pkl\n",
      "Saved problem_examples/mdopdp_n40_v2_299.pkl\n",
      "Saved problem_examples/mdopdp_n40_v3_299.pkl\n",
      "Saved problem_examples/mdopdp_n40_v4_299.pkl\n",
      "Saved problem_examples/mdopdp_n40_v5_299.pkl\n",
      "Saved problem_examples/mdopdp_n40_v8_299.pkl\n",
      "Saved problem_examples/mdopdp_n40_v10_299.pkl\n",
      "Saved problem_examples/mdopdp_n50_v2_299.pkl\n",
      "Saved problem_examples/mdopdp_n50_v3_299.pkl\n",
      "Saved problem_examples/mdopdp_n50_v4_299.pkl\n",
      "Saved problem_examples/mdopdp_n50_v5_299.pkl\n",
      "Saved problem_examples/mdopdp_n50_v8_299.pkl\n",
      "Saved problem_examples/mdopdp_n50_v10_299.pkl\n",
      "Saved problem_examples/mdopdp_n80_v2_299.pkl\n",
      "Saved problem_examples/mdopdp_n80_v3_299.pkl\n",
      "Saved problem_examples/mdopdp_n80_v4_299.pkl\n",
      "Saved problem_examples/mdopdp_n80_v5_299.pkl\n",
      "Saved problem_examples/mdopdp_n80_v8_299.pkl\n",
      "Saved problem_examples/mdopdp_n80_v10_299.pkl\n",
      "Saved problem_examples/mdopdp_n100_v2_299.pkl\n",
      "Saved problem_examples/mdopdp_n100_v3_299.pkl\n",
      "Saved problem_examples/mdopdp_n100_v4_299.pkl\n",
      "Saved problem_examples/mdopdp_n100_v5_299.pkl\n",
      "Saved problem_examples/mdopdp_n100_v8_299.pkl\n",
      "Saved problem_examples/mdopdp_n100_v10_299.pkl\n",
      "CPU times: total: 8.05 s\n",
      "Wall time: 11.8 s\n"
     ]
    }
   ],
   "source": [
    "%%time\n",
    "\n",
    "for n_cus in n_customers:\n",
    "    for n_veh in n_vehicles:\n",
    "        for i in range(n_examples):\n",
    "            data = problem_generator.create_data_model(n_cus, n_veh, capacity=capacity)\n",
    "            file_name = f'mdopdp_n{n_cus}_v{n_veh}_{i}.pkl'\n",
    "            file_path = r'problem_examples/'+file_name\n",
    "            # file_path = os.path.join(folder_path, file_name)\n",
    "            # file_path = folder_path+'/'+file_name\n",
    "            with open(file_path, 'wb') as file:\n",
    "                pickle.dump(data, file)\n",
    "        print(f'Saved {file_path}')"
   ]
  },
  {
   "cell_type": "code",
   "execution_count": 27,
   "id": "bd91d711-6098-472d-a273-b67415a6b3f2",
   "metadata": {},
   "outputs": [
    {
     "name": "stdout",
     "output_type": "stream",
     "text": [
      "{'coordinates': array([[-55.93733272, -94.44445931],\n",
      "       [ 17.40397265,  79.55962643],\n",
      "       [-75.04498076, -96.20672309],\n",
      "       [-55.50351521, -50.72887032],\n",
      "       [ 64.84102466,  -3.27858784],\n",
      "       [-98.60481663, -79.91193236],\n",
      "       [-19.49619523, -87.38012342],\n",
      "       [ 47.12210106, -68.02557905],\n",
      "       [ 59.41019662, -86.78249678],\n",
      "       [-27.77099348,  33.91053969],\n",
      "       [ 71.45087918, -70.10255202],\n",
      "       [  4.57899607, -66.07916983],\n",
      "       [ 16.72226979, -36.335354  ],\n",
      "       [-59.38010913, -99.18243182],\n",
      "       [ 21.58907578,  19.04968178],\n",
      "       [ 30.20332384,  31.43562097],\n",
      "       [-86.7237677 , -33.92247596],\n",
      "       [-88.65360576, -47.13021522],\n",
      "       [ 20.76792622,  39.43563828],\n",
      "       [ 85.30575984, -27.88653654],\n",
      "       [-95.68863755,  66.56101017],\n",
      "       [ 91.70377663,  19.59985408],\n",
      "       [-82.575863  , -21.35490176],\n",
      "       [-84.67163137, -62.63293623],\n",
      "       [ 78.1585414 ,  -3.25436114],\n",
      "       [-67.91571437, -32.68462921],\n",
      "       [ -9.67174438,  32.89365687],\n",
      "       [-91.26723565, -38.62816601],\n",
      "       [-44.99846581,  40.08925245],\n",
      "       [-65.21554895,  82.68815445],\n",
      "       [-21.00910473, -36.86943193],\n",
      "       [-64.74659786,  81.56304606],\n",
      "       [  0.38391531, -26.63084442],\n",
      "       [-30.07846498, -38.7857654 ],\n",
      "       [ 63.66848473, -77.87548508],\n",
      "       [ 41.61712038,  63.78324988],\n",
      "       [ 31.06893799, -88.82232813],\n",
      "       [ 41.07299847,   3.82963827],\n",
      "       [ -0.72061617,  25.82846855],\n",
      "       [-29.74733459, -26.16812507]]), 'distance_matrix': array([[  0.,   0.,   0., ..., 146., 137.,  99.],\n",
      "       [  0.,   0.,   0., ..., 102.,  84., 131.],\n",
      "       [  0.,   0.,   0., ..., 156., 149., 113.],\n",
      "       ...,\n",
      "       [  0.,   0.,   0., ...,   0.,  81., 110.],\n",
      "       [  0.,   0.,   0., ...,  80.,   0.,  91.],\n",
      "       [  0.,   0.,   0., ..., 104., 100.,   0.]]), 'pickups_deliveries': [[32, 20], [37, 16], [26, 19], [33, 15], [17, 23], [18, 38], [35, 30], [31, 27], [22, 14], [21, 36], [10, 39], [29, 13], [24, 28], [34, 12], [11, 25]], 'pickups': [32, 37, 26, 33, 17, 18, 35, 31, 22, 21, 10, 29, 24, 34, 11], 'deliveries': [20, 16, 19, 15, 23, 38, 30, 27, 14, 36, 39, 13, 28, 12, 25], 'num_vehicles': 10, 'depot': array([0, 1, 2, 3, 4, 5, 6, 7, 8, 9]), 'num_customers': 30, 'starts': [0, 1, 2, 3, 4, 5, 6, 7, 8, 9], 'ends': [0, 1, 2, 3, 4, 5, 6, 7, 8, 9], 'demands': array([  0.,   0.,   0.,   0.,   0.,   0.,   0.,   0.,   0.,   0.,  36.,\n",
      "        41., -78., -34., -75., -43., -54.,  52.,  97., -53., -96.,  26.,\n",
      "        75., -52.,  49., -41.,  53., -23., -49.,  34., -25.,  23.,  96.,\n",
      "        43.,  78.,  25., -26.,  54., -97., -36.]), 'vehicle_capacities': array([200, 200, 200, 200, 200, 200, 200, 200, 200, 200]), 'max_distance': array([inf, inf, inf, inf, inf, inf, inf, inf, inf, inf])}\n"
     ]
    }
   ],
   "source": [
    "with open(f'problem_examples/mdopdp_n30_v10_0.pkl', 'rb') as file:\n",
    "    data = pickle.load(file)\n",
    "\n",
    "print(data)"
   ]
  },
  {
   "cell_type": "code",
   "execution_count": 10,
   "id": "f57f1d70-72f9-41b4-a747-a50f90b7b782",
   "metadata": {},
   "outputs": [
    {
     "name": "stdout",
     "output_type": "stream",
     "text": [
      "Saved problem_examples/mdpdp_n50_v2_199.pkl\n"
     ]
    }
   ],
   "source": [
    "## close loop PDP\n",
    "\n",
    "n_cus = 50\n",
    "n_veh = 2\n",
    "capacity = 200\n",
    "n_examples = 200\n",
    "\n",
    "for i in range(n_examples):\n",
    "    data = problem_generator.create_data_model(n_cus, n_veh, capacity=capacity, open=False)\n",
    "    file_name = f'mdpdp_n{n_cus}_v{n_veh}_{i}.pkl'\n",
    "    file_path = r'problem_examples/'+file_name\n",
    "    # file_path = os.path.join(folder_path, file_name)\n",
    "    # file_path = folder_path+'/'+file_name\n",
    "    with open(file_path, 'wb') as file:\n",
    "        pickle.dump(data, file)\n",
    "print(f'Saved {file_path}')"
   ]
  },
  {
   "cell_type": "code",
   "execution_count": 7,
   "id": "05e1e250-879d-4fa7-83f7-dceb06532f00",
   "metadata": {},
   "outputs": [
    {
     "name": "stdout",
     "output_type": "stream",
     "text": [
      "{'coordinates': array([[ 72.204, -55.602],\n",
      "       [-58.669,  56.817],\n",
      "       [ 25.862,  83.898],\n",
      "       [-15.693, -69.79 ],\n",
      "       [-40.878, -12.441],\n",
      "       [-52.997, -23.275],\n",
      "       [  9.558,  14.503],\n",
      "       [  6.182, -75.582],\n",
      "       [ 72.015, -20.141],\n",
      "       [ 73.825, -67.561],\n",
      "       [ 24.757, -78.058],\n",
      "       [-52.493, -41.924],\n",
      "       [  9.647,  98.644],\n",
      "       [ 77.594, -75.435],\n",
      "       [ 91.185,  -6.985],\n",
      "       [ 84.759,  10.408],\n",
      "       [ 14.006,  56.661],\n",
      "       [ 50.857, -44.859],\n",
      "       [-33.946,  54.898],\n",
      "       [ 86.352,  99.812],\n",
      "       [-47.562,  81.097],\n",
      "       [-75.328,  10.889],\n",
      "       [-10.17 ,  44.177],\n",
      "       [-54.334,  17.395],\n",
      "       [ 90.552,  79.807],\n",
      "       [ 11.262,  47.552],\n",
      "       [ 61.485,  60.923],\n",
      "       [-67.919, -82.141],\n",
      "       [ -3.962, -52.253],\n",
      "       [-21.893, -47.584],\n",
      "       [ 80.299, -37.836],\n",
      "       [-46.735,  82.045],\n",
      "       [-79.207, -33.705],\n",
      "       [-34.261,  90.761]]), 'distance_matrix': array([[  0., 178., 157., ..., 187., 155., 187.],\n",
      "       [185.,   0., 132., ...,  66., 107.,  80.],\n",
      "       [162., 104.,   0., ...,  96., 167.,  95.],\n",
      "       ...,\n",
      "       [190.,  55., 100., ...,   0., 135.,  33.],\n",
      "       [154., 112., 170., ..., 128.,   0., 142.],\n",
      "       [183.,  77., 104., ...,  33., 154.,   0.]]), 'pickups_deliveries': [[29, 23], [26, 8], [20, 27], [5, 4], [16, 24], [10, 25], [18, 31], [21, 14], [12, 28], [6, 15], [7, 33], [19, 32], [9, 22], [30, 17], [13, 11]], 'pickups': [29, 26, 20, 5, 16, 10, 18, 21, 12, 6, 7, 19, 9, 30, 13], 'deliveries': [23, 8, 27, 4, 24, 25, 31, 14, 28, 15, 33, 32, 22, 17, 11], 'num_vehicles': 4, 'depot': array([0, 1, 2, 3]), 'num_customers': 30, 'starts': [0, 1, 2, 3], 'ends': [0, 1, 2, 3], 'demands': array([  0.,   0.,   0.,   0., -75.,  75.,  56.,  33., -92.,  63.,  84.,\n",
      "       -96.,  41.,  96., -48., -56.,  36., -75.,  75.,  61.,  61.,  48.,\n",
      "       -63., -65., -36., -84.,  92., -61., -41.,  65.,  75., -75., -61.,\n",
      "       -33.]), 'vehicle_capacities': array([200, 200, 200, 200]), 'max_distance': array([inf, inf, inf, inf])}\n"
     ]
    }
   ],
   "source": [
    "print(data)"
   ]
  }
 ],
 "metadata": {
  "kernelspec": {
   "display_name": "Python 3 (ipykernel)",
   "language": "python",
   "name": "python3"
  },
  "language_info": {
   "codemirror_mode": {
    "name": "ipython",
    "version": 3
   },
   "file_extension": ".py",
   "mimetype": "text/x-python",
   "name": "python",
   "nbconvert_exporter": "python",
   "pygments_lexer": "ipython3",
   "version": "3.10.5"
  }
 },
 "nbformat": 4,
 "nbformat_minor": 5
}
