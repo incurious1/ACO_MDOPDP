{
 "cells": [
  {
   "cell_type": "code",
   "execution_count": 30,
   "id": "e979634d-939c-4750-ae6d-277e02478831",
   "metadata": {},
   "outputs": [],
   "source": [
    "import pickle\n",
    "import numpy as np\n",
    "from tqdm import tqdm\n",
    "import pandas as pd\n",
    "import time\n",
    "\n",
    "import ant_colony_pdp\n",
    "import problem_generator"
   ]
  },
  {
   "cell_type": "code",
   "execution_count": 19,
   "id": "8aab3a59-c979-4f24-9f87-c3948be0487a",
   "metadata": {},
   "outputs": [],
   "source": [
    "# data = problem_generator.create_data_model(50,4,open=True,capacity=capacity)"
   ]
  },
  {
   "cell_type": "code",
   "execution_count": null,
   "id": "918c9b4b-3f40-4276-85be-3cdb2dbd261f",
   "metadata": {},
   "outputs": [],
   "source": [
    "%%time\n",
    "\n",
    "# max = 200\n",
    "n_examples = 200\n",
    "\n",
    "## (30,4) (50,2) (50,3) (50,4) (50,5)\n",
    "n_customer = 50\n",
    "n_vehicle = 4\n",
    "\n",
    "capacity = 200\n",
    "max_distance = 1500\n",
    "\n",
    "save_path = f'records/load_balance/load_balance_n{n_customer}_v{n_vehicle}.xlsx'\n",
    "\n",
    "name = n_customer + n_vehicle\n",
    "record = pd.DataFrame({'closed_original':[], 'closed_load_balance':[] \\\n",
    "                       , 'open_original':[], 'open_load_balance':[] \\\n",
    "                      , 't1':[], 't2':[], 't3':[], 't4':[]})\n",
    "\n",
    "for ex_id in tqdm(range(n_examples)):\n",
    "    \n",
    "    # load examples (close loop)\n",
    "    file_name = f'problem_examples/mdpdp_n{n_customer}_v{n_vehicle}_{ex_id}.pkl'\n",
    "    with open(file_name, 'rb') as file:\n",
    "        data = pickle.load(file)\n",
    "    if max_distance < float('inf'):\n",
    "        data['max_distance'] = np.ones(n_vehicle)*max_distance\n",
    "\n",
    "    t0 = time.time()    \n",
    "    \n",
    "    sol_closed = ant_colony_pdp.ant_colony_pdp(data, max_penalty=True)\n",
    "    # print(sol_aco)\n",
    "    t1 = time.time()\n",
    "    \n",
    "    sol_closed_balance = ant_colony_pdp.ant_colony_pdp(data, max_penalty=True, load_balance_acc=True)\n",
    "    # print(sol_aco_balance)\n",
    "    t2 = time.time()\n",
    "    \n",
    "    ## open loop\n",
    "    data['distance_matrix'][:,:n_vehicle] = 0\n",
    "    \n",
    "    sol_open = ant_colony_pdp.ant_colony_pdp(data, max_penalty=True)\n",
    "    # print(sol_aco)\n",
    "    t3 = time.time()\n",
    "    \n",
    "    sol_open_balance = ant_colony_pdp.ant_colony_pdp(data, max_penalty=True, load_balance_acc=True)\n",
    "    # print(sol_aco_balance)\n",
    "    t4 = time.time()\n",
    "    \n",
    "    # rec_open_original.append(sol_closed[0][0])\n",
    "    # rec_open_load.append(sol_closed_balance[0][0])\n",
    "    # rec_closed_original.append(sol_open[0][0])\n",
    "    # rec_closed_load.append(sol_open_balance[0][0])\n",
    "\n",
    "    record.loc[len(record)] = [sol_closed[0][0], sol_closed_balance[0][0], sol_open[0][0] , sol_open_balance[0][0] \\\n",
    "                              , t1-t0, t2-t1, t3-t2, t4-t3]\n",
    "    \n",
    "\n",
    "    record.to_excel(save_path)\n",
    "    print('saved:', save_path, 'ex #',ex_id)"
   ]
  },
  {
   "cell_type": "code",
   "execution_count": 40,
   "id": "6a314f44-0751-4736-85d4-ad5e7360ccb4",
   "metadata": {},
   "outputs": [
    {
     "name": "stdout",
     "output_type": "stream",
     "text": [
      "     closed_original  closed_load_balance  open_original  open_load_balance  \\\n",
      "0             3801.0               3952.0         3619.0             3812.0   \n",
      "1             3786.0               3875.0         3733.0             3853.0   \n",
      "2             3941.0               3723.0         3638.0             3699.0   \n",
      "3             3554.0               3545.0         3768.0             3562.0   \n",
      "4             4074.0               3963.0         4127.0             4002.0   \n",
      "..               ...                  ...            ...                ...   \n",
      "195           3839.0               3523.0         3831.0             3500.0   \n",
      "196           3538.0               3651.0         3513.0             3679.0   \n",
      "197           3986.0               3985.0         4026.0             4141.0   \n",
      "198           3452.0               3537.0         3284.0             3357.0   \n",
      "199           3752.0               3483.0         3455.0             3442.0   \n",
      "\n",
      "            t1         t2         t3         t4  \n",
      "0    10.137340  11.462267  10.560606  10.653997  \n",
      "1    10.015855  16.528700  10.655269  10.059216  \n",
      "2     4.590565  10.623395  10.530437  10.125145  \n",
      "3     8.949178  16.410555   4.057213  10.746073  \n",
      "4    11.716987  11.012256   3.814065  10.958598  \n",
      "..         ...        ...        ...        ...  \n",
      "195   3.456378  11.819942   3.908400   9.535172  \n",
      "196   9.206859   9.848988   9.847315  11.441912  \n",
      "197   9.833140  10.018999   9.488201  10.190712  \n",
      "198  10.091887  10.432655  10.426705   9.565872  \n",
      "199   4.501894  11.098733   9.035640  10.487389  \n",
      "\n",
      "[200 rows x 8 columns]\n"
     ]
    }
   ],
   "source": [
    "print(record)"
   ]
  },
  {
   "cell_type": "code",
   "execution_count": 37,
   "id": "8e12b89d-1654-4e3f-ab14-16e7d2adc3db",
   "metadata": {},
   "outputs": [
    {
     "name": "stdout",
     "output_type": "stream",
     "text": [
      "records/load_balance/load_balance_n50_v4.xlsx\n"
     ]
    }
   ],
   "source": []
  }
 ],
 "metadata": {
  "kernelspec": {
   "display_name": "Python 3 (ipykernel)",
   "language": "python",
   "name": "python3"
  },
  "language_info": {
   "codemirror_mode": {
    "name": "ipython",
    "version": 3
   },
   "file_extension": ".py",
   "mimetype": "text/x-python",
   "name": "python",
   "nbconvert_exporter": "python",
   "pygments_lexer": "ipython3",
   "version": "3.10.5"
  }
 },
 "nbformat": 4,
 "nbformat_minor": 5
}
